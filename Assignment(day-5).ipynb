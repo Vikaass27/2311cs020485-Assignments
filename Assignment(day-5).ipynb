{
 "cells": [
  {
   "cell_type": "code",
   "execution_count": 1,
   "id": "96a9300e-6fa7-435d-ba0c-38ab1ac6cc78",
   "metadata": {},
   "outputs": [
    {
     "name": "stdin",
     "output_type": "stream",
     "text": [
      "Enter a positive integer:  52\n"
     ]
    },
    {
     "name": "stdout",
     "output_type": "stream",
     "text": [
      "Numbers from 1 to 52 :\n",
      "1\n",
      "2\n",
      "3\n",
      "4\n",
      "5\n",
      "6\n",
      "7\n",
      "8\n",
      "9\n",
      "10\n",
      "11\n",
      "12\n",
      "13\n",
      "14\n",
      "15\n",
      "16\n",
      "17\n",
      "18\n",
      "19\n",
      "20\n",
      "21\n",
      "22\n",
      "23\n",
      "24\n",
      "25\n",
      "26\n",
      "27\n",
      "28\n",
      "29\n",
      "30\n",
      "31\n",
      "32\n",
      "33\n",
      "34\n",
      "35\n",
      "36\n",
      "37\n",
      "38\n",
      "39\n",
      "40\n",
      "41\n",
      "42\n",
      "43\n",
      "44\n",
      "45\n",
      "46\n",
      "47\n",
      "48\n",
      "49\n",
      "50\n",
      "51\n",
      "52\n",
      "Sum of numbers from 1 to 52 is: 1378\n"
     ]
    }
   ],
   "source": [
    "n = int(input(\"Enter a positive integer: \"))\n",
    "\n",
    "if n <= 0:\n",
    "    print(\"Please enter a positive integer.\")\n",
    "else:\n",
    "    print(\"Numbers from 1 to\", n, \":\")\n",
    "    for i in range(1, n + 1):\n",
    "        print(i)\n",
    "    total_sum = 0\n",
    "    counter = 1\n",
    "    while counter <= n:\n",
    "        total_sum += counter\n",
    "        counter += 1\n",
    "\n",
    "    print(\"Sum of numbers from 1 to\", n, \"is:\", total_sum)\n"
   ]
  },
  {
   "cell_type": "code",
   "execution_count": 3,
   "id": "ba72dac5-3666-4672-a6bc-fbf148eb6846",
   "metadata": {},
   "outputs": [
    {
     "name": "stdin",
     "output_type": "stream",
     "text": [
      "Enter a positive integer:  30\n"
     ]
    },
    {
     "name": "stdout",
     "output_type": "stream",
     "text": [
      "The square of 30 is: 900\n"
     ]
    }
   ],
   "source": [
    "def calculate_square(n):\n",
    "    return n * n\n",
    "num = int(input(\"Enter a positive integer: \"))\n",
    "if num <= 0:\n",
    "    print(\"Please enter a positive integer.\")\n",
    "else:\n",
    "    result = calculate_square(num)\n",
    "    print(\"The square of\", num, \"is:\", result)"
   ]
  },
  {
   "cell_type": "code",
   "execution_count": null,
   "id": "d2e5d819-48b1-42a9-aaf0-266621e731fa",
   "metadata": {},
   "outputs": [],
   "source": []
  }
 ],
 "metadata": {
  "kernelspec": {
   "display_name": "Python [conda env:base] *",
   "language": "python",
   "name": "conda-base-py"
  },
  "language_info": {
   "codemirror_mode": {
    "name": "ipython",
    "version": 3
   },
   "file_extension": ".py",
   "mimetype": "text/x-python",
   "name": "python",
   "nbconvert_exporter": "python",
   "pygments_lexer": "ipython3",
   "version": "3.12.7"
  }
 },
 "nbformat": 4,
 "nbformat_minor": 5
}
