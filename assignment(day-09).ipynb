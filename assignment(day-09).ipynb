{
 "cells": [
  {
   "cell_type": "markdown",
   "id": "e17fb5b7-e568-48b4-8ce5-23b801dfba6a",
   "metadata": {},
   "source": [
    "#### Assignment-1"
   ]
  },
  {
   "cell_type": "code",
   "execution_count": 17,
   "id": "39118811-4e0b-4a00-957c-4caa7d5acace",
   "metadata": {},
   "outputs": [],
   "source": [
    "import pandas as pd"
   ]
  },
  {
   "cell_type": "code",
   "execution_count": 19,
   "id": "c18ee9a9-58a3-4b3e-b500-cb674fc5e9d6",
   "metadata": {},
   "outputs": [],
   "source": [
    "fp=r\"C:\\Users\\nutha\\Downloads\\Day_9_banking_data.csv\"\n",
    "banking_data=pd.read_csv(fp)"
   ]
  },
  {
   "cell_type": "code",
   "execution_count": 21,
   "id": "7d2319b5-361a-49c9-bcca-a457125a651e",
   "metadata": {},
   "outputs": [
    {
     "name": "stdout",
     "output_type": "stream",
     "text": [
      "First 5 rows of the dataset:\n",
      "         Date       Account_Type    Branch Transaction_Type  \\\n",
      "0  2023-01-19      Fixed Deposit   Central     Loan Payment   \n",
      "1  2023-01-16            Current    Uptown       Withdrawal   \n",
      "2  2023-01-10            Current    Uptown     Loan Payment   \n",
      "3  2023-01-18            Savings    Uptown     Loan Payment   \n",
      "4  2023-01-14  Recurring Deposit  Suburban     Loan Payment   \n",
      "\n",
      "   Transaction_Amount  Account_Balance  \n",
      "0              985.51          6839.59  \n",
      "1              641.43          8908.39  \n",
      "2             3363.85         12428.67  \n",
      "3             1914.60          5776.63  \n",
      "4             2788.57          4779.04  \n"
     ]
    }
   ],
   "source": [
    "# Display the first 5 rows of the dataset\n",
    "print(\"First 5 rows of the dataset:\")\n",
    "print(banking_data.head())"
   ]
  },
  {
   "cell_type": "code",
   "execution_count": 23,
   "id": "46ef52ae-fed6-4633-acc3-ff3d52aa3cbd",
   "metadata": {},
   "outputs": [
    {
     "name": "stdout",
     "output_type": "stream",
     "text": [
      "\n",
      "Basic statistics of numerical columns:\n",
      "       Transaction_Amount  Account_Balance\n",
      "count           20.000000        20.000000\n",
      "mean          2705.829500      7967.766500\n",
      "std           1429.829787      2770.248821\n",
      "min            641.430000      2592.160000\n",
      "25%           1482.085000      6460.127500\n",
      "50%           2567.645000      7905.275000\n",
      "75%           4121.525000      9127.702500\n",
      "max           4683.640000     12836.510000\n"
     ]
    }
   ],
   "source": [
    "# Generate basic statistics of numerical columns\n",
    "print(\"\\nBasic statistics of numerical columns:\")\n",
    "print(banking_data.describe())"
   ]
  },
  {
   "cell_type": "code",
   "execution_count": 25,
   "id": "0e936ffb-d90e-43e0-bdd1-ed81cb52b57d",
   "metadata": {},
   "outputs": [
    {
     "name": "stdout",
     "output_type": "stream",
     "text": [
      "\n",
      "Missing values in the dataset:\n",
      "Date                  0\n",
      "Account_Type          0\n",
      "Branch                0\n",
      "Transaction_Type      0\n",
      "Transaction_Amount    0\n",
      "Account_Balance       0\n",
      "dtype: int64\n"
     ]
    }
   ],
   "source": [
    "\n",
    "# Check for missing values\n",
    "print(\"\\nMissing values in the dataset:\")\n",
    "print(banking_data.isnull().sum())"
   ]
  },
  {
   "cell_type": "markdown",
   "id": "5f5303b5-ea3c-4d0c-8de6-f01399d2674a",
   "metadata": {},
   "source": [
    "#### Assignment-2"
   ]
  },
  {
   "cell_type": "code",
   "execution_count": 27,
   "id": "ca7a772d-6ba5-4fbc-9cf8-4ca54e4fcc81",
   "metadata": {},
   "outputs": [],
   "source": [
    "\n",
    "import pandas as pd"
   ]
  },
  {
   "cell_type": "code",
   "execution_count": 29,
   "id": "f2e5c5ab-535e-4927-a033-3d039274a6fc",
   "metadata": {},
   "outputs": [],
   "source": [
    "fp=r\"C:\\Users\\nutha\\Downloads\\Day_9_banking_data.csv\"\n",
    "banking_data=pd.read_csv(fp)"
   ]
  },
  {
   "cell_type": "code",
   "execution_count": 31,
   "id": "b8dbc3d7-bbe0-41ec-8707-89f0b0ecce1b",
   "metadata": {},
   "outputs": [
    {
     "name": "stdout",
     "output_type": "stream",
     "text": [
      "Aggregations by Account_Type:\n",
      "                   Total_Transaction_Amount  Average_Account_Balance\n",
      "Account_Type                                                        \n",
      "Current                            15052.57              9893.404000\n",
      "Fixed Deposit                      14102.59              6120.380000\n",
      "Recurring Deposit                  15179.99              7627.283333\n",
      "Savings                             9781.44              9134.110000\n"
     ]
    }
   ],
   "source": [
    "\n",
    "# Group by Account_Type and calculate required aggregations\n",
    "account_group = banking_data.groupby('Account_Type').agg({\n",
    "    'Transaction_Amount': 'sum',         # Total sum of Transaction_Amount\n",
    "    'Account_Balance': 'mean'           # Average Account_Balance\n",
    "}).rename(columns={\n",
    "    'Transaction_Amount': 'Total_Transaction_Amount',\n",
    "    'Account_Balance': 'Average_Account_Balance'\n",
    "})\n",
    "print(\"Aggregations by Account_Type:\")\n",
    "print(account_group)"
   ]
  },
  {
   "cell_type": "code",
   "execution_count": 33,
   "id": "552f2583-00fd-40c9-a621-1052fd34e1ef",
   "metadata": {},
   "outputs": [
    {
     "name": "stdout",
     "output_type": "stream",
     "text": [
      "\n",
      "Aggregations by Branch:\n",
      "          Total_Transactions  Average_Transaction_Amount\n",
      "Branch                                                  \n",
      "Central                    8                 2942.338750\n",
      "Downtown                   3                 3188.703333\n",
      "Suburban                   5                 2773.278000\n",
      "Uptown                     4                 1786.345000\n"
     ]
    }
   ],
   "source": [
    "\n",
    "# Group by Branch and calculate required aggregations\n",
    "branch_group = banking_data.groupby('Branch').agg({\n",
    "    'Transaction_Amount': ['count', 'mean']  # Count of transactions and average Transaction_Amount\n",
    "}).rename(columns={\n",
    "    'count': 'Total_Transactions',\n",
    "    'mean': 'Average_Transaction_Amount'\n",
    "})\n",
    "# Flatten the multi-level column names\n",
    "branch_group.columns = ['Total_Transactions', 'Average_Transaction_Amount']\n",
    "print(\"\\nAggregations by Branch:\")\n",
    "print(branch_group)"
   ]
  },
  {
   "cell_type": "code",
   "execution_count": null,
   "id": "64569886-f01b-4628-b087-a540e9118ce8",
   "metadata": {},
   "outputs": [],
   "source": []
  }
 ],
 "metadata": {
  "kernelspec": {
   "display_name": "Python [conda env:base] *",
   "language": "python",
   "name": "conda-base-py"
  },
  "language_info": {
   "codemirror_mode": {
    "name": "ipython",
    "version": 3
   },
   "file_extension": ".py",
   "mimetype": "text/x-python",
   "name": "python",
   "nbconvert_exporter": "python",
   "pygments_lexer": "ipython3",
   "version": "3.12.7"
  }
 },
 "nbformat": 4,
 "nbformat_minor": 5
}
