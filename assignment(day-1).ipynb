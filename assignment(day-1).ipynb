{
 "cells": [
  {
   "cell_type": "code",
   "execution_count": 3,
   "id": "f68db6cc-f773-4891-bc11-1e92d66c3060",
   "metadata": {},
   "outputs": [
    {
     "name": "stdout",
     "output_type": "stream",
     "text": [
      "Value of my_int: 10 and its type: <class 'int'>\n",
      "Value of my_float: 3.14 and its type: <class 'float'>\n",
      "Value of my_string: Hello, Jupyter! and its type: <class 'str'>\n",
      "Value of my_boolean: True and its type: <class 'bool'>\n"
     ]
    }
   ],
   "source": [
    "my_int = 10\n",
    "my_float = 3.14 \n",
    "my_string = \"Hello, Jupyter!\"\n",
    "my_boolean = True \n",
    "print(\"Value of my_int:\", my_int, \"and its type:\", type(my_int))\n",
    "print(\"Value of my_float:\", my_float, \"and its type:\", type(my_float))\n",
    "print(\"Value of my_string:\", my_string, \"and its type:\", type(my_string))\n",
    "print(\"Value of my_boolean:\", my_boolean, \"and its type:\", type(my_boolean))"
   ]
  },
  {
   "cell_type": "code",
   "execution_count": null,
   "id": "187babae-8dbb-4a59-ace7-cbba7eff75fd",
   "metadata": {},
   "outputs": [],
   "source": []
  }
 ],
 "metadata": {
  "kernelspec": {
   "display_name": "Python [conda env:base] *",
   "language": "python",
   "name": "conda-base-py"
  },
  "language_info": {
   "codemirror_mode": {
    "name": "ipython",
    "version": 3
   },
   "file_extension": ".py",
   "mimetype": "text/x-python",
   "name": "python",
   "nbconvert_exporter": "python",
   "pygments_lexer": "ipython3",
   "version": "3.12.7"
  }
 },
 "nbformat": 4,
 "nbformat_minor": 5
}
