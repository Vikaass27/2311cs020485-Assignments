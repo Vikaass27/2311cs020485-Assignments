{
 "cells": [
  {
   "cell_type": "markdown",
   "id": "4c9b2644-3dc6-4433-88d2-f37c7144575d",
   "metadata": {},
   "source": [
    "## ASSIGNMENT-01"
   ]
  },
  {
   "cell_type": "code",
   "execution_count": 21,
   "id": "c14699d2-5b60-4150-a34e-cb7acbc7b1f7",
   "metadata": {},
   "outputs": [],
   "source": [
    "import pandas as pd"
   ]
  },
  {
   "cell_type": "code",
   "execution_count": 23,
   "id": "ce505bf4-5ebb-45e1-92d5-8ffb9d1d7419",
   "metadata": {},
   "outputs": [],
   "source": [
    "fp=r\"C:\\Users\\nutha\\Downloads\\Day_10_banking_data.csv\"\n",
    "banking_data=pd.read_csv(fp)"
   ]
  },
  {
   "cell_type": "code",
   "execution_count": 25,
   "id": "b4321f8e-56d7-4230-ac7f-bdd28200cf86",
   "metadata": {},
   "outputs": [
    {
     "name": "stdout",
     "output_type": "stream",
     "text": [
      "Rows where Transaction_Amount is less than or equal to 2000:\n",
      "          Date       Account_Type    Branch Transaction_Type  \\\n",
      "0   2023-01-19      Fixed Deposit   Central     Loan Payment   \n",
      "1   2023-01-16            Current    Uptown       Withdrawal   \n",
      "3   2023-01-18            Savings    Uptown     Loan Payment   \n",
      "6   2023-01-04  Recurring Deposit   Central   Service Charge   \n",
      "9   2023-01-11      Fixed Deposit  Downtown          Deposit   \n",
      "10  2023-01-13  Recurring Deposit   Central          Deposit   \n",
      "11  2023-01-08      Fixed Deposit  Suburban   Service Charge   \n",
      "12  2023-01-15      Fixed Deposit    Uptown   Service Charge   \n",
      "18  2023-01-12  Recurring Deposit  Suburban   Service Charge   \n",
      "\n",
      "    Transaction_Amount  Account_Balance  \n",
      "0               985.51          6839.59  \n",
      "1               641.43          8908.39  \n",
      "3              1914.60          5776.63  \n",
      "6              1621.82          6465.79  \n",
      "9              1529.59          2592.16  \n",
      "10              846.41          6443.14  \n",
      "11             1803.88          6560.58  \n",
      "12             1225.50          4224.47  \n",
      "18             1339.57          8666.74  \n"
     ]
    }
   ],
   "source": [
    "# Filter out all rows where the Transaction_Amount is greater than 2000\n",
    "filtered_transactions = banking_data[banking_data['Transaction_Amount'] <= 2000]\n",
    "print(\"Rows where Transaction_Amount is less than or equal to 2000:\")\n",
    "print(filtered_transactions)"
   ]
  },
  {
   "cell_type": "code",
   "execution_count": 27,
   "id": "c78156bf-d55e-42a9-8d20-7149001f4056",
   "metadata": {},
   "outputs": [
    {
     "name": "stdout",
     "output_type": "stream",
     "text": [
      "\n",
      "Rows where Transaction_Type is 'Loan Payment' and Account_Balance > 5000:\n",
      "          Date       Account_Type   Branch Transaction_Type  \\\n",
      "0   2023-01-19      Fixed Deposit  Central     Loan Payment   \n",
      "2   2023-01-10            Current   Uptown     Loan Payment   \n",
      "3   2023-01-18            Savings   Uptown     Loan Payment   \n",
      "7   2023-01-09            Current  Central     Loan Payment   \n",
      "13  2023-01-05  Recurring Deposit  Central     Loan Payment   \n",
      "17  2023-01-07            Current  Central     Loan Payment   \n",
      "\n",
      "    Transaction_Amount  Account_Balance  \n",
      "0               985.51          6839.59  \n",
      "2              3363.85         12428.67  \n",
      "3              1914.60          5776.63  \n",
      "7              2346.72         10708.85  \n",
      "13             4683.64          6762.43  \n",
      "17             4116.52          9785.64  \n"
     ]
    }
   ],
   "source": [
    "# Find all rows where Transaction_Type is \"Loan Payment\" and Account_Balance is greater than 5000\n",
    "loan_payment_filter = banking_data[\n",
    "    (banking_data['Transaction_Type'] == 'Loan Payment') & \n",
    "    (banking_data['Account_Balance'] > 5000)\n",
    "]\n",
    "print(\"\\nRows where Transaction_Type is 'Loan Payment' and Account_Balance > 5000:\")\n",
    "print(loan_payment_filter)"
   ]
  },
  {
   "cell_type": "code",
   "execution_count": 29,
   "id": "491ef81c-0386-4a6a-a0d2-9e997d711477",
   "metadata": {},
   "outputs": [
    {
     "name": "stdout",
     "output_type": "stream",
     "text": [
      "\n",
      "Transactions made in the 'Uptown' branch:\n",
      "          Date   Account_Type  Branch Transaction_Type  Transaction_Amount  \\\n",
      "1   2023-01-16        Current  Uptown       Withdrawal              641.43   \n",
      "2   2023-01-10        Current  Uptown     Loan Payment             3363.85   \n",
      "3   2023-01-18        Savings  Uptown     Loan Payment             1914.60   \n",
      "12  2023-01-15  Fixed Deposit  Uptown   Service Charge             1225.50   \n",
      "\n",
      "    Account_Balance  \n",
      "1           8908.39  \n",
      "2          12428.67  \n",
      "3           5776.63  \n",
      "12          4224.47  \n"
     ]
    }
   ],
   "source": [
    "# Extract transactions made in the \"Uptown\" branch\n",
    "uptown_transactions = banking_data[banking_data['Branch'] == 'Uptown']\n",
    "print(\"\\nTransactions made in the 'Uptown' branch:\")\n",
    "print(uptown_transactions)"
   ]
  },
  {
   "cell_type": "markdown",
   "id": "4d1d9cc3-9d7e-438a-b95c-3c7decc60fa1",
   "metadata": {},
   "source": [
    "## ASSIGNMENT-02"
   ]
  },
  {
   "cell_type": "code",
   "execution_count": 34,
   "id": "2bc272a0-4374-408c-a760-fdb7d6ea09c4",
   "metadata": {},
   "outputs": [
    {
     "name": "stdout",
     "output_type": "stream",
     "text": [
      "\n",
      "Data with new columns (Transaction_Fee and Balance_Status):\n",
      "    Transaction_Amount  Transaction_Fee  Account_Balance Balance_Status\n",
      "0               985.51          19.7102          6839.59   High Balance\n",
      "1               641.43          12.8286          8908.39   High Balance\n",
      "2              3363.85          67.2770         12428.67   High Balance\n",
      "3              1914.60          38.2920          5776.63   High Balance\n",
      "4              2788.57          55.7714          4779.04    Low Balance\n",
      "5              4584.05          91.6810          7635.47   High Balance\n",
      "6              1621.82          32.4364          6465.79   High Balance\n",
      "7              2346.72          46.9344         10708.85   High Balance\n",
      "8              3899.98          77.9996         12646.56   High Balance\n",
      "9              1529.59          30.5918          2592.16    Low Balance\n",
      "10              846.41          16.9282          6443.14   High Balance\n",
      "11             1803.88          36.0776          6560.58   High Balance\n",
      "12             1225.50          24.5100          4224.47    Low Balance\n",
      "13             4683.64          93.6728          6762.43   High Balance\n",
      "14             4136.54          82.7308          8175.08   High Balance\n",
      "15             3350.32          67.0064         12836.51   High Balance\n",
      "16             4421.57          88.4314          8330.40   High Balance\n",
      "17             4116.52          82.3304          9785.64   High Balance\n",
      "18             1339.57          26.7914          8666.74   High Balance\n",
      "19             4516.52          90.3304          8789.19   High Balance\n"
     ]
    }
   ],
   "source": [
    "# Add a new column called Transaction_Fee, calculated as 2% of Transaction_Amount\n",
    "banking_data['Transaction_Fee'] = banking_data['Transaction_Amount'] * 0.02\n",
    "\n",
    "# Create a new column Balance_Status\n",
    "banking_data['Balance_Status'] = banking_data['Account_Balance'].apply(\n",
    "    lambda x: 'High Balance' if x > 5000 else 'Low Balance'\n",
    ")\n",
    "\n",
    "print(\"\\nData with new columns (Transaction_Fee and Balance_Status):\")\n",
    "print(banking_data[['Transaction_Amount', 'Transaction_Fee', 'Account_Balance', 'Balance_Status']])"
   ]
  },
  {
   "cell_type": "code",
   "execution_count": null,
   "id": "4c147806-63bd-4d38-90ca-c24de98b1359",
   "metadata": {},
   "outputs": [],
   "source": []
  }
 ],
 "metadata": {
  "kernelspec": {
   "display_name": "Python [conda env:base] *",
   "language": "python",
   "name": "conda-base-py"
  },
  "language_info": {
   "codemirror_mode": {
    "name": "ipython",
    "version": 3
   },
   "file_extension": ".py",
   "mimetype": "text/x-python",
   "name": "python",
   "nbconvert_exporter": "python",
   "pygments_lexer": "ipython3",
   "version": "3.12.7"
  }
 },
 "nbformat": 4,
 "nbformat_minor": 5
}
