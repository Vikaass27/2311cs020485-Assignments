{
 "cells": [
  {
   "cell_type": "code",
   "execution_count": 14,
   "id": "1f4d5438-ed02-449b-a46d-31d3d4ba219c",
   "metadata": {},
   "outputs": [],
   "source": [
    "import pandas as pd"
   ]
  },
  {
   "cell_type": "code",
   "execution_count": 16,
   "id": "d16338c0-928a-47da-b06d-15e28a68a7d9",
   "metadata": {},
   "outputs": [],
   "source": [
    "fp=r\"C:\\Users\\nutha\\Downloads\\Day_11_banking_data.csv\"\n",
    "banking_data=pd.read_csv(fp)"
   ]
  },
  {
   "cell_type": "code",
   "execution_count": 18,
   "id": "f7588e18-5fc3-4820-9757-472c0395254b",
   "metadata": {},
   "outputs": [
    {
     "name": "stdout",
     "output_type": "stream",
     "text": [
      "Top 10 rows sorted by Account_Balance (descending):\n",
      "          Date       Account_Type    Branch Transaction_Type  \\\n",
      "15  2023-01-03            Savings  Suburban   Service Charge   \n",
      "8   2023-01-20  Recurring Deposit  Downtown   Service Charge   \n",
      "2   2023-01-10            Current    Uptown     Loan Payment   \n",
      "7   2023-01-09            Current   Central     Loan Payment   \n",
      "17  2023-01-07            Current   Central     Loan Payment   \n",
      "1   2023-01-16            Current    Uptown       Withdrawal   \n",
      "19  2023-01-17            Savings   Central          Deposit   \n",
      "18  2023-01-12  Recurring Deposit  Suburban   Service Charge   \n",
      "16  2023-01-02      Fixed Deposit   Central          Deposit   \n",
      "14  2023-01-01      Fixed Deposit  Downtown       Withdrawal   \n",
      "\n",
      "    Transaction_Amount  Account_Balance  \n",
      "15             3350.32         12836.51  \n",
      "8              3899.98         12646.56  \n",
      "2              3363.85         12428.67  \n",
      "7              2346.72         10708.85  \n",
      "17             4116.52          9785.64  \n",
      "1               641.43          8908.39  \n",
      "19             4516.52          8789.19  \n",
      "18             1339.57          8666.74  \n",
      "16             4421.57          8330.40  \n",
      "14             4136.54          8175.08  \n"
     ]
    }
   ],
   "source": [
    "# Sort the dataset by Account_Balance in descending order and display the first 10 rows\n",
    "sorted_data = banking_data.sort_values(by='Account_Balance', ascending=False)\n",
    "print(\"Top 10 rows sorted by Account_Balance (descending):\")\n",
    "print(sorted_data.head(10))"
   ]
  },
  {
   "cell_type": "code",
   "execution_count": 22,
   "id": "1339f45b-e08e-4270-86cf-0106b010f091",
   "metadata": {},
   "outputs": [
    {
     "name": "stdout",
     "output_type": "stream",
     "text": [
      "\n",
      "Dataset with Transaction_Rank within each Branch:\n",
      "      Branch  Transaction_Amount  Transaction_Rank\n",
      "0    Central              985.51               7.0\n",
      "1     Uptown              641.43               4.0\n",
      "2     Uptown             3363.85               1.0\n",
      "3     Uptown             1914.60               2.0\n",
      "4   Suburban             2788.57               3.0\n",
      "5   Suburban             4584.05               1.0\n",
      "6    Central             1621.82               6.0\n",
      "7    Central             2346.72               5.0\n",
      "8   Downtown             3899.98               2.0\n",
      "9   Downtown             1529.59               3.0\n",
      "10   Central              846.41               8.0\n",
      "11  Suburban             1803.88               4.0\n",
      "12    Uptown             1225.50               3.0\n",
      "13   Central             4683.64               1.0\n",
      "14  Downtown             4136.54               1.0\n",
      "15  Suburban             3350.32               2.0\n",
      "16   Central             4421.57               3.0\n",
      "17   Central             4116.52               4.0\n",
      "18  Suburban             1339.57               5.0\n",
      "19   Central             4516.52               2.0\n"
     ]
    }
   ],
   "source": [
    "# Create a ranking column for Transaction_Amount within each Branch\n",
    "banking_data['Transaction_Rank'] = banking_data.groupby('Branch')['Transaction_Amount'].rank(ascending=False)\n",
    "print(\"\\nDataset with Transaction_Rank within each Branch:\")\n",
    "print(banking_data[['Branch', 'Transaction_Amount', 'Transaction_Rank']])"
   ]
  },
  {
   "cell_type": "code",
   "execution_count": null,
   "id": "9baa551b-84b5-4f6a-a166-ee3b67cd21ad",
   "metadata": {},
   "outputs": [],
   "source": []
  }
 ],
 "metadata": {
  "kernelspec": {
   "display_name": "Python [conda env:base] *",
   "language": "python",
   "name": "conda-base-py"
  },
  "language_info": {
   "codemirror_mode": {
    "name": "ipython",
    "version": 3
   },
   "file_extension": ".py",
   "mimetype": "text/x-python",
   "name": "python",
   "nbconvert_exporter": "python",
   "pygments_lexer": "ipython3",
   "version": "3.12.7"
  }
 },
 "nbformat": 4,
 "nbformat_minor": 5
}
