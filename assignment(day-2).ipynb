{
 "cells": [
  {
   "cell_type": "code",
   "execution_count": 1,
   "id": "475feff5-0cc0-4ff9-b194-18dad2606e44",
   "metadata": {},
   "outputs": [
    {
     "name": "stdout",
     "output_type": "stream",
     "text": [
      "First element: 10\n",
      "Second element: 20\n",
      "Last element: 50\n"
     ]
    }
   ],
   "source": [
    "my_list = [10, 20, 30, 40, 50]\n",
    "first_element = my_list[0]\n",
    "second_element = my_list[1]\n",
    "last_element = my_list[-1]\n",
    "\n",
    "print(\"First element:\", first_element)\n",
    "print(\"Second element:\", second_element)\n",
    "print(\"Last element:\", last_element)"
   ]
  },
  {
   "cell_type": "code",
   "execution_count": 5,
   "id": "b46b9e6a-00bd-47ff-b88d-0712882f36f3",
   "metadata": {},
   "outputs": [
    {
     "name": "stdout",
     "output_type": "stream",
     "text": [
      "Third element: 3\n",
      "Fourth element: 4\n",
      "Second last element: 4\n"
     ]
    }
   ],
   "source": [
    "my_tuple = (1, 2, 3, 4, 5)\n",
    "third_element = my_tuple[2]\n",
    "fourth_element = my_tuple[3]\n",
    "second_last_element = my_tuple[-2]\n",
    "\n",
    "print(\"Third element:\", third_element)\n",
    "print(\"Fourth element:\", fourth_element)\n",
    "print(\"Second last element:\", second_last_element)"
   ]
  },
  {
   "cell_type": "code",
   "execution_count": 9,
   "id": "36b962ce-984e-4f80-b345-15208952aff8",
   "metadata": {},
   "outputs": [
    {
     "name": "stdout",
     "output_type": "stream",
     "text": [
      "Name: John\n",
      "City: New York\n",
      "All keys: ['name', 'age', 'city', 'job', 'country']\n",
      "All values: ['John', 30, 'New York', 'Developer', 'USA']\n"
     ]
    }
   ],
   "source": [
    "my_dict = {\n",
    "    \"name\": \"John\",\n",
    "    \"age\": 30,\n",
    "    \"city\": \"New York\",\n",
    "    \"job\": \"Developer\",\n",
    "    \"country\": \"USA\"\n",
    "}\n",
    "name_value = my_dict[\"name\"] \n",
    "city_value = my_dict[\"city\"]\n",
    "keys = my_dict.keys() \n",
    "values = my_dict.values() \n",
    "\n",
    "print(\"Name:\", name_value)\n",
    "print(\"City:\", city_value)\n",
    "print(\"All keys:\", list(keys))\n",
    "print(\"All values:\", list(values))"
   ]
  },
  {
   "cell_type": "code",
   "execution_count": null,
   "id": "e94e150e-584b-4326-a585-751af7d61b19",
   "metadata": {},
   "outputs": [],
   "source": []
  }
 ],
 "metadata": {
  "kernelspec": {
   "display_name": "Python [conda env:base] *",
   "language": "python",
   "name": "conda-base-py"
  },
  "language_info": {
   "codemirror_mode": {
    "name": "ipython",
    "version": 3
   },
   "file_extension": ".py",
   "mimetype": "text/x-python",
   "name": "python",
   "nbconvert_exporter": "python",
   "pygments_lexer": "ipython3",
   "version": "3.12.7"
  }
 },
 "nbformat": 4,
 "nbformat_minor": 5
}
